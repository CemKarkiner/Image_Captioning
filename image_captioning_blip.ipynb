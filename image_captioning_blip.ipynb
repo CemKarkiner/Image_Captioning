{
 "cells": [
  {
   "cell_type": "code",
   "execution_count": null,
   "id": "9f280b13",
   "metadata": {},
   "outputs": [],
   "source": [
    "import pandas as pd\n",
    "import matplotlib.pyplot as plt\n",
    "from PIL import Image\n",
    "import os"
   ]
  },
  {
   "cell_type": "code",
   "execution_count": null,
   "id": "c83c9a5f",
   "metadata": {},
   "outputs": [],
   "source": [
    "train_df = pd.read_csv(\"train.csv\")\n",
    "test_df = pd.read_csv(\"test.csv\")"
   ]
  },
  {
   "cell_type": "code",
   "execution_count": null,
   "id": "178b48c5",
   "metadata": {},
   "outputs": [],
   "source": [
    "print(\"Train shape:\", train_df.shape)\n",
    "print(\"Test shape:\", test_df.shape)\n",
    "print(\"\\nTrain columns:\", train_df.columns)\n",
    "print(\"\\nFirst 5 rows of train.csv:\")\n",
    "print(train_df.head())"
   ]
  },
  {
   "cell_type": "code",
   "execution_count": null,
   "id": "f79bc73c",
   "metadata": {},
   "outputs": [],
   "source": [
    "print(\"\\nMissing values in train.csv:\")\n",
    "print(train_df.isnull().sum())"
   ]
  },
  {
   "cell_type": "code",
   "execution_count": null,
   "id": "d39c0ed1",
   "metadata": {},
   "outputs": [],
   "source": [
    "def show_samples(df, image_folder, num=3):\n",
    "    sample = df.sample(num)\n",
    "    for _, row in sample.iterrows():\n",
    "        img_path = os.path.join(image_folder, str(row['image_id']))\n",
    "        if os.path.exists(img_path):\n",
    "            image = Image.open(img_path)\n",
    "            plt.imshow(image)\n",
    "            plt.axis('off')\n",
    "            plt.title(row['caption'] if 'caption' in row else \"Test Image\")\n",
    "            plt.show()"
   ]
  },
  {
   "cell_type": "code",
   "execution_count": null,
   "id": "0d7b5d22",
   "metadata": {},
   "outputs": [],
   "source": [
    "show_samples(train_df, \"train_images\", num=3)"
   ]
  },
  {
   "cell_type": "code",
   "execution_count": null,
   "id": "f4270ae8",
   "metadata": {},
   "outputs": [],
   "source": [
    "from transformers import BlipProcessor, BlipForConditionalGeneration\n",
    "from PIL import Image\n",
    "import torch\n",
    "import os\n",
    "\n",
    "processor = BlipProcessor.from_pretrained(\"Salesforce/blip-image-captioning-base\")\n",
    "model = BlipForConditionalGeneration.from_pretrained(\"Salesforce/blip-image-captioning-base\")\n",
    "device = torch.device(\"cuda\" if torch.cuda.is_available() else \"cpu\")\n",
    "model.to(device)"
   ]
  },
  {
   "cell_type": "code",
   "execution_count": null,
   "id": "0bf89e15",
   "metadata": {},
   "outputs": [],
   "source": [
    "def generate_caption(img_path):\n",
    "    image = Image.open(img_path).convert('RGB')\n",
    "    inputs = processor(images=image, return_tensors=\"pt\").to(device)\n",
    "    out = model.generate(**inputs)\n",
    "    caption = processor.decode(out[0], skip_special_tokens=True)\n",
    "    return caption"
   ]
  },
  {
   "cell_type": "code",
   "execution_count": null,
   "id": "96600efc",
   "metadata": {},
   "outputs": [],
   "source": [
    "test_captions = []\n",
    "sample_images = test_df[\"image_id\"].tolist()\n",
    "for image_id in sample_images:\n",
    "    img_path = os.path.join(\"test\", str(image_id) + \".jpg\")   \n",
    "    caption = generate_caption(img_path)\n",
    "    test_captions.append((str(image_id), caption))"
   ]
  },
  {
   "cell_type": "code",
   "execution_count": null,
   "id": "d02c3f1e",
   "metadata": {},
   "outputs": [],
   "source": [
    "submission_df = pd.DataFrame(test_captions, columns=[\"image_id\", \"caption\"])\n",
    "submission_df.to_csv(\"submission.csv\", index=False)\n",
    "print(\"submission.csv saved!\")"
   ]
  }
 ],
 "metadata": {
  "language": "python",
  "language_info": {
   "name": "python"
  }
 },
 "nbformat": 4,
 "nbformat_minor": 5
}
